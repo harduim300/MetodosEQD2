{
 "cells": [
  {
   "cell_type": "markdown",
   "id": "231f663c-79d7-47ac-aeb9-4aeae5f7e28e",
   "metadata": {},
   "source": [
    "# Métodos Numéricos para Equações Diferenciais II – 2023/2"
   ]
  },
  {
   "cell_type": "markdown",
   "id": "1b800dbf-326b-409f-9423-d87ea3bd6dbf",
   "metadata": {},
   "source": [
    "**Aluno:** Matheus de Costa Harduim.\n",
    "\n",
    "**Professor:** Grazione de Souza.\n",
    "\n",
    "**Instituição:** UERJ – IPRJ – DMC"
   ]
  },
  {
   "cell_type": "markdown",
   "id": "19c03d7a-a3e6-42a4-ac1c-ac0d308dcc78",
   "metadata": {},
   "source": [
    "### Desenvolvimento dos códigos e comentários."
   ]
  },
  {
   "cell_type": "markdown",
   "id": "2f82720b-94b1-49d1-b38b-5d8db73e26f2",
   "metadata": {},
   "source": [
    "Importando as bibliotecas do python que serão utilizadas"
   ]
  },
  {
   "cell_type": "code",
   "execution_count": 1,
   "id": "0d81f9d8-f349-4a22-92ad-ac30fa824647",
   "metadata": {},
   "outputs": [],
   "source": [
    "import numpy.matlib\n",
    "import numpy as np\n",
    "import datetime\n",
    "import pandas as pd\n",
    "import matplotlib.pyplot as plt\n",
    "import seaborn as sns\n",
    "from scipy import optimize"
   ]
  },
  {
   "cell_type": "markdown",
   "id": "3297d196-1c5a-4afc-a719-de05060ade25",
   "metadata": {},
   "source": [
    "## Dados do problema\n",
    "- $u = 0.25$\n",
    "- $ \\alpha = 0,1$\n",
    "- ${C}_{A} = 1,0 $ \n",
    "- ${C}_{B} = 0,0 $\n",
    "- ${L}_{x} = 4m$\n",
    "- $\\Delta x = 0.4$"
   ]
  },
  {
   "cell_type": "code",
   "execution_count": null,
   "id": "3ad1ecc5-196c-4451-a129-32ee45a5f33b",
   "metadata": {},
   "outputs": [],
   "source": []
  }
 ],
 "metadata": {
  "kernelspec": {
   "display_name": "Python 3 (ipykernel)",
   "language": "python",
   "name": "python3"
  },
  "language_info": {
   "codemirror_mode": {
    "name": "ipython",
    "version": 3
   },
   "file_extension": ".py",
   "mimetype": "text/x-python",
   "name": "python",
   "nbconvert_exporter": "python",
   "pygments_lexer": "ipython3",
   "version": "3.10.12"
  }
 },
 "nbformat": 4,
 "nbformat_minor": 5
}
